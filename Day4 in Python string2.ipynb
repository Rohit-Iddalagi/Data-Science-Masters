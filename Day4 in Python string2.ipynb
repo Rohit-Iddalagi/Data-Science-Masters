{
 "cells": [
  {
   "cell_type": "code",
   "execution_count": 1,
   "id": "ee78c008-5fe0-46f5-9575-ab874bf43c47",
   "metadata": {},
   "outputs": [
    {
     "data": {
      "text/plain": [
       "'R o h i t'"
      ]
     },
     "execution_count": 1,
     "metadata": {},
     "output_type": "execute_result"
    }
   ],
   "source": [
    "' '.join(\"Rohit\")"
   ]
  },
  {
   "cell_type": "code",
   "execution_count": 2,
   "id": "9a779134-64a5-4e0b-9f5b-a7b63a66cc99",
   "metadata": {},
   "outputs": [
    {
     "data": {
      "text/plain": [
       "'t i h o R'"
      ]
     },
     "execution_count": 2,
     "metadata": {},
     "output_type": "execute_result"
    }
   ],
   "source": [
    "' '.join(reversed(\"Rohit\"))"
   ]
  },
  {
   "cell_type": "code",
   "execution_count": 4,
   "id": "f41dd927-6d30-4a65-ba1a-0291e1623da1",
   "metadata": {},
   "outputs": [
    {
     "data": {
      "text/plain": [
       "['t', 'i', 'h', 'o', 'R']"
      ]
     },
     "execution_count": 4,
     "metadata": {},
     "output_type": "execute_result"
    }
   ],
   "source": [
    "##type casting \n",
    "list(reversed(\"Rohit\"))"
   ]
  },
  {
   "cell_type": "code",
   "execution_count": 8,
   "id": "29106584-b11a-462a-bb23-4cd900907e43",
   "metadata": {},
   "outputs": [
    {
     "data": {
      "text/plain": [
       "'Rohit'"
      ]
     },
     "execution_count": 8,
     "metadata": {},
     "output_type": "execute_result"
    }
   ],
   "source": [
    "string=\" Rohit \"\n",
    "string.strip()"
   ]
  },
  {
   "cell_type": "code",
   "execution_count": 9,
   "id": "2c7d6949-25db-40cc-a05d-3187f631a792",
   "metadata": {},
   "outputs": [
    {
     "data": {
      "text/plain": [
       "'Rohit '"
      ]
     },
     "execution_count": 9,
     "metadata": {},
     "output_type": "execute_result"
    }
   ],
   "source": [
    "string.lstrip()"
   ]
  },
  {
   "cell_type": "code",
   "execution_count": 10,
   "id": "731e4974-cb62-4304-aca0-750ba2670758",
   "metadata": {},
   "outputs": [
    {
     "data": {
      "text/plain": [
       "' Rohit'"
      ]
     },
     "execution_count": 10,
     "metadata": {},
     "output_type": "execute_result"
    }
   ],
   "source": [
    "string.rstrip()"
   ]
  },
  {
   "cell_type": "code",
   "execution_count": 11,
   "id": "281d38be-f903-4061-a107-4ee539630003",
   "metadata": {},
   "outputs": [],
   "source": [
    "string1=\"My name is Rohit\""
   ]
  },
  {
   "cell_type": "code",
   "execution_count": 13,
   "id": "f2cf5ea4-bd69-4d0b-a82d-b590f52bc12b",
   "metadata": {},
   "outputs": [
    {
     "data": {
      "text/plain": [
       "'My name is Chaitra'"
      ]
     },
     "execution_count": 13,
     "metadata": {},
     "output_type": "execute_result"
    }
   ],
   "source": [
    "string1.replace(\"Rohit\", \"Chaitra\")"
   ]
  },
  {
   "cell_type": "code",
   "execution_count": 15,
   "id": "dce844f1-1765-4a2f-9046-00dbc3b14de6",
   "metadata": {},
   "outputs": [
    {
     "data": {
      "text/plain": [
       "'Welcome to PWskills.Welcome to Data Science Masters'"
      ]
     },
     "execution_count": 15,
     "metadata": {},
     "output_type": "execute_result"
    }
   ],
   "source": [
    "##assignment\n",
    "string2=\"Welcome to PWskills.Welcome to Dat cience Masters\"\n",
    "string2.replace(\"Dat cience\",\"Data Science\")"
   ]
  },
  {
   "cell_type": "code",
   "execution_count": 16,
   "id": "e09e875a-b25b-4c66-b559-ed457689594d",
   "metadata": {},
   "outputs": [
    {
     "data": {
      "text/plain": [
       "'Welcome to PWskills.Welcome to Data Science Masters'"
      ]
     },
     "execution_count": 16,
     "metadata": {},
     "output_type": "execute_result"
    }
   ],
   "source": [
    "string2.replace(\"Dat\", \"Data\").replace(\"cience\", \"Science\")"
   ]
  },
  {
   "cell_type": "code",
   "execution_count": 17,
   "id": "78ff1e01-5180-4392-bc21-2b10af9a8a43",
   "metadata": {},
   "outputs": [
    {
     "data": {
      "text/plain": [
       "False"
      ]
     },
     "execution_count": 17,
     "metadata": {},
     "output_type": "execute_result"
    }
   ],
   "source": [
    "string2.isupper()"
   ]
  },
  {
   "cell_type": "code",
   "execution_count": 19,
   "id": "a902e998-33c2-4206-ae1e-30dfe89ff733",
   "metadata": {},
   "outputs": [
    {
     "data": {
      "text/plain": [
       "False"
      ]
     },
     "execution_count": 19,
     "metadata": {},
     "output_type": "execute_result"
    }
   ],
   "source": [
    "string2.islower()"
   ]
  },
  {
   "cell_type": "code",
   "execution_count": 29,
   "id": "9c542309-abcf-4135-884d-9763e489dd35",
   "metadata": {},
   "outputs": [
    {
     "data": {
      "text/plain": [
       "'hello    world'"
      ]
     },
     "execution_count": 29,
     "metadata": {},
     "output_type": "execute_result"
    }
   ],
   "source": [
    "\"hello \\t world\".expandtabs()"
   ]
  },
  {
   "cell_type": "code",
   "execution_count": 30,
   "id": "68f6d676-6caf-4eca-ae6c-8dac55513d34",
   "metadata": {},
   "outputs": [
    {
     "data": {
      "text/plain": [
       "True"
      ]
     },
     "execution_count": 30,
     "metadata": {},
     "output_type": "execute_result"
    }
   ],
   "source": [
    "string3=\"abcd1234\"\n",
    "string3.isalnum()"
   ]
  },
  {
   "cell_type": "code",
   "execution_count": 31,
   "id": "e2130e0d-178c-438d-822b-69224b49e817",
   "metadata": {},
   "outputs": [
    {
     "data": {
      "text/plain": [
       "8"
      ]
     },
     "execution_count": 31,
     "metadata": {},
     "output_type": "execute_result"
    }
   ],
   "source": [
    "##count the number charector in a string \n",
    "len(string3)"
   ]
  },
  {
   "cell_type": "code",
   "execution_count": 41,
   "id": "4ba00541-789e-44bf-8758-e105e91da7a9",
   "metadata": {},
   "outputs": [
    {
     "name": "stdout",
     "output_type": "stream",
     "text": [
      "8\n"
     ]
    }
   ],
   "source": [
    "count=0\n",
    "for i in string3:\n",
    "    count=count+1\n",
    "print(count)"
   ]
  },
  {
   "cell_type": "code",
   "execution_count": 50,
   "id": "9880ca47-e6dc-4cde-82b7-42e62bdc6c3f",
   "metadata": {},
   "outputs": [
    {
     "name": "stdout",
     "output_type": "stream",
     "text": [
      "0 = a\n",
      "1 = b\n",
      "2 = c\n",
      "3 = d\n",
      "4 = 1\n",
      "5 = 2\n",
      "6 = 3\n",
      "7 = 4\n"
     ]
    }
   ],
   "source": [
    "for i in range(len(string3)):\n",
    "    print(i,\"=\", string3[i])"
   ]
  },
  {
   "cell_type": "code",
   "execution_count": 72,
   "id": "b29e6303-f388-494b-935e-42b498110e8b",
   "metadata": {},
   "outputs": [
    {
     "name": "stdout",
     "output_type": "stream",
     "text": [
      "7 = 4\n",
      "6 = 3\n",
      "5 = 2\n",
      "4 = 1\n",
      "3 = d\n",
      "2 = c\n",
      "1 = b\n",
      "0 = a\n"
     ]
    }
   ],
   "source": [
    "##we can use index to iterate string reverse direction\n",
    "for i in range(len(string3)-1,-1,-1):\n",
    "    print(i,\"=\",string3[i])"
   ]
  },
  {
   "cell_type": "code",
   "execution_count": 4,
   "id": "92a62ae2-ffe5-41b8-94f2-3a1c3244d1f2",
   "metadata": {},
   "outputs": [
    {
     "name": "stdout",
     "output_type": "stream",
     "text": [
      "i\n",
      "h\n",
      "t\n",
      "o\n",
      "y\n",
      "J\n"
     ]
    }
   ],
   "source": [
    "string4=\"Jyothi\"\n",
    "ch=len(string4)-1\n",
    "while ch>=0:\n",
    "    print(string4[ch])\n",
    "    ch=ch-1"
   ]
  },
  {
   "cell_type": "code",
   "execution_count": 24,
   "id": "b7643e2e-be5a-4184-9e25-d8a7a84daaf3",
   "metadata": {},
   "outputs": [
    {
     "name": "stdout",
     "output_type": "stream",
     "text": [
      "P is not a vowel\n",
      "W is not a vowel\n",
      "S is not a vowel\n",
      "k is not a vowel\n",
      "i is a vowel\n",
      "l is not a vowel\n",
      "l is not a vowel\n",
      "s is not a vowel\n"
     ]
    }
   ],
   "source": [
    "Name=\"PWSkills\"\n",
    "Vowels=\"AaEeIiOoUu\"\n",
    "for i in Name:\n",
    "    if i in Vowels:\n",
    "        print(f\"{i} is a vowel\")\n",
    "    else:\n",
    "        print(\"{} is not a vowel\".format(i))"
   ]
  }
 ],
 "metadata": {
  "kernelspec": {
   "display_name": "Python 3 (ipykernel)",
   "language": "python",
   "name": "python3"
  },
  "language_info": {
   "codemirror_mode": {
    "name": "ipython",
    "version": 3
   },
   "file_extension": ".py",
   "mimetype": "text/x-python",
   "name": "python",
   "nbconvert_exporter": "python",
   "pygments_lexer": "ipython3",
   "version": "3.10.8"
  }
 },
 "nbformat": 4,
 "nbformat_minor": 5
}
