{
 "cells": [
  {
   "cell_type": "code",
   "execution_count": 2,
   "id": "9130173b-c262-4d20-aad0-69bac7eddbd2",
   "metadata": {},
   "outputs": [
    {
     "name": "stdout",
     "output_type": "stream",
     "text": [
      "My name is Rohit and my age is 28\n"
     ]
    }
   ],
   "source": [
    "name=\"Rohit\"\n",
    "age=28\n",
    "print(\"My name is {} and my age is {}\".format(name,age))"
   ]
  },
  {
   "cell_type": "code",
   "execution_count": 3,
   "id": "c63d06cb-485f-402c-8140-b9fef763c000",
   "metadata": {},
   "outputs": [
    {
     "name": "stdout",
     "output_type": "stream",
     "text": [
      "My age is 28 and i have completed: my degree of BE with the name of Rohit\n"
     ]
    }
   ],
   "source": [
    "name=\"Rohit\"\n",
    "age=28\n",
    "degree=\"BE\"\n",
    "print(\"My age is {} and i have completed: my degree of {} with the name of {}\".format(age,degree,name))"
   ]
  },
  {
   "cell_type": "code",
   "execution_count": 10,
   "id": "9cb9b640-13bf-40cb-96b7-864ab392ba82",
   "metadata": {},
   "outputs": [],
   "source": [
    "age=17\n",
    "if age>=18:\n",
    "    print(\"your eligible to Vote\")"
   ]
  },
  {
   "cell_type": "code",
   "execution_count": 24,
   "id": "7e64693c-0789-4f89-9efa-ad43b0f3a316",
   "metadata": {},
   "outputs": [
    {
     "name": "stdin",
     "output_type": "stream",
     "text": [
      "Enter the age 30\n"
     ]
    },
    {
     "name": "stdout",
     "output_type": "stream",
     "text": [
      "Young blood\n"
     ]
    }
   ],
   "source": [
    "age=int(input(\"Enter the age\"))\n",
    "if age>=18 and age<=45:\n",
    "    print(\"Young blood\")\n",
    "else:\n",
    "    print(\"Thank you good bye\")\n",
    "    "
   ]
  },
  {
   "cell_type": "code",
   "execution_count": 47,
   "id": "0ed8061b-02e3-4c58-97e8-96baa1609dbc",
   "metadata": {},
   "outputs": [
    {
     "name": "stdin",
     "output_type": "stream",
     "text": [
      "product price 2000\n"
     ]
    },
    {
     "name": "stdout",
     "output_type": "stream",
     "text": [
      "product price after the discount is 1400.0\n"
     ]
    }
   ],
   "source": [
    "price=int(input(\"product price\"))\n",
    "if price>3000:\n",
    "    print(\"product price after the discount is {}\".format(price*0.8)) \n",
    "elif price>=2000 and price<=3000:\n",
    "    print(\"product price after the discount is {}\".format(price*0.7))\n",
    "elif price<=1000 and price<=2000:\n",
    "    print(\"product price after the discount is {}\".format(price*0.6))\n",
    "else:\n",
    "    print(\"No discount {}\".format(price))"
   ]
  },
  {
   "cell_type": "code",
   "execution_count": null,
   "id": "b99d243d-dc44-4e1d-bda3-069c2847e449",
   "metadata": {},
   "outputs": [],
   "source": []
  }
 ],
 "metadata": {
  "kernelspec": {
   "display_name": "Python 3 (ipykernel)",
   "language": "python",
   "name": "python3"
  },
  "language_info": {
   "codemirror_mode": {
    "name": "ipython",
    "version": 3
   },
   "file_extension": ".py",
   "mimetype": "text/x-python",
   "name": "python",
   "nbconvert_exporter": "python",
   "pygments_lexer": "ipython3",
   "version": "3.10.8"
  }
 },
 "nbformat": 4,
 "nbformat_minor": 5
}
