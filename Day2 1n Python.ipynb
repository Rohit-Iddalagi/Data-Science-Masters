{
 "cells": [
  {
   "cell_type": "code",
   "execution_count": 2,
   "id": "9130173b-c262-4d20-aad0-69bac7eddbd2",
   "metadata": {},
   "outputs": [
    {
     "name": "stdout",
     "output_type": "stream",
     "text": [
      "My name is Rohit and my age is 28\n"
     ]
    }
   ],
   "source": [
    "name=\"Rohit\"\n",
    "age=28\n",
    "print(\"My name is {} and my age is {}\".format(name,age))"
   ]
  },
  {
   "cell_type": "code",
   "execution_count": 3,
   "id": "c63d06cb-485f-402c-8140-b9fef763c000",
   "metadata": {},
   "outputs": [
    {
     "name": "stdout",
     "output_type": "stream",
     "text": [
      "My age is 28 and i have completed: my degree of BE with the name of Rohit\n"
     ]
    }
   ],
   "source": [
    "name=\"Rohit\"\n",
    "age=28\n",
    "degree=\"BE\"\n",
    "print(\"My age is {} and i have completed: my degree of {} with the name of {}\".format(age,degree,name))"
   ]
  },
  {
   "cell_type": "code",
   "execution_count": 10,
   "id": "9cb9b640-13bf-40cb-96b7-864ab392ba82",
   "metadata": {},
   "outputs": [],
   "source": [
    "age=17\n",
    "if age>=18:\n",
    "    print(\"your eligible to Vote\")"
   ]
  },
  {
   "cell_type": "code",
   "execution_count": 24,
   "id": "7e64693c-0789-4f89-9efa-ad43b0f3a316",
   "metadata": {},
   "outputs": [
    {
     "name": "stdin",
     "output_type": "stream",
     "text": [
      "Enter the age 30\n"
     ]
    },
    {
     "name": "stdout",
     "output_type": "stream",
     "text": [
      "Young blood\n"
     ]
    }
   ],
   "source": [
    "age=int(input(\"Enter the age\"))\n",
    "if age>=18 and age<=45:\n",
    "    print(\"Young blood\")\n",
    "else:\n",
    "    print(\"Thank you good bye\")\n",
    "    "
   ]
  },
  {
   "cell_type": "code",
   "execution_count": 47,
   "id": "0ed8061b-02e3-4c58-97e8-96baa1609dbc",
   "metadata": {},
   "outputs": [
    {
     "name": "stdin",
     "output_type": "stream",
     "text": [
      "product price 2000\n"
     ]
    },
    {
     "name": "stdout",
     "output_type": "stream",
     "text": [
      "product price after the discount is 1400.0\n"
     ]
    }
   ],
   "source": [
    "price=int(input(\"product price\"))\n",
    "if price>3000:\n",
    "    print(\"product price after the discount is {}\".format(price*0.8)) \n",
    "elif price>=2000 and price<=3000:\n",
    "    print(\"product price after the discount is {}\".format(price*0.7))\n",
    "elif price<=1000 and price<=2000:\n",
    "    print(\"product price after the discount is {}\".format(price*0.6))\n",
    "else:\n",
    "    print(\"No discount {}\".format(price))"
   ]
  },
  {
   "cell_type": "code",
   "execution_count": 8,
   "id": "b99d243d-dc44-4e1d-bda3-069c2847e449",
   "metadata": {},
   "outputs": [
    {
     "name": "stdout",
     "output_type": "stream",
     "text": [
      "25\n",
      "26\n",
      "27\n",
      "28\n",
      "29\n",
      "30\n",
      "31\n",
      "32\n",
      "33\n",
      "34\n",
      "35\n",
      "36\n",
      "37\n",
      "38\n",
      "39\n",
      "40\n",
      "41\n",
      "42\n",
      "43\n",
      "44\n",
      "45\n",
      "46\n",
      "47\n",
      "48\n",
      "49\n",
      "50\n",
      "51\n",
      "52\n",
      "53\n",
      "54\n",
      "55\n",
      "56\n",
      "57\n",
      "58\n",
      "59\n",
      "60\n",
      "time for retirment\n"
     ]
    }
   ],
   "source": [
    "age=25\n",
    "while age<=60:\n",
    "    print(age)\n",
    "    age=age+1\n",
    "else:\n",
    "    print(\"time for retirment\")"
   ]
  },
  {
   "cell_type": "code",
   "execution_count": 9,
   "id": "10ac6abe-8d7a-4b67-855d-4be30e90e881",
   "metadata": {},
   "outputs": [
    {
     "name": "stdout",
     "output_type": "stream",
     "text": [
      "1000\n",
      "900\n",
      "800\n",
      "700\n",
      "600\n",
      "500\n",
      "400\n",
      "300\n",
      "200\n",
      "100\n",
      "put money\n"
     ]
    }
   ],
   "source": [
    "ATM_machine=1000\n",
    "while ATM_machine!=0:\n",
    "    print(ATM_machine)\n",
    "    ATM_machine=ATM_machine-100\n",
    "else:\n",
    "    print(\"put money\")"
   ]
  },
  {
   "cell_type": "code",
   "execution_count": 15,
   "id": "7062d230-286f-4b32-b97a-e3ecc75b123d",
   "metadata": {},
   "outputs": [
    {
     "name": "stdout",
     "output_type": "stream",
     "text": [
      "Mango\n",
      "Apple\n",
      "This is Apple\n",
      "Banana\n"
     ]
    }
   ],
   "source": [
    "fruit_list=[\"Mango\", \"Apple\", \"Banana\"]\n",
    "for a in fruit_list:\n",
    "    print(a)\n",
    "    if a==\"Apple\":\n",
    "        print(\"This is Apple\")"
   ]
  },
  {
   "cell_type": "code",
   "execution_count": 23,
   "id": "8c8e6e9e-3911-4c6c-8364-86c6051e254f",
   "metadata": {},
   "outputs": [
    {
     "name": "stdout",
     "output_type": "stream",
     "text": [
      "*\n",
      "**\n",
      "***\n",
      "****\n",
      "*****\n",
      "******\n",
      "*******\n",
      "********\n",
      "*********\n"
     ]
    }
   ],
   "source": [
    "##Nested loop\n",
    "n=9\n",
    "for i in range(0,n):\n",
    "    for j in range(0,i+1):\n",
    "        print(\"*\", end=\"\")\n",
    "    print(\"\\r\")\n",
    "\n",
    "    "
   ]
  },
  {
   "cell_type": "code",
   "execution_count": 63,
   "id": "3885ff6e-1c1a-463c-8f97-cd544672e932",
   "metadata": {},
   "outputs": [
    {
     "name": "stdout",
     "output_type": "stream",
     "text": [
      "         *\n",
      "        **\n",
      "       ****\n",
      "      ******\n",
      "     ********\n",
      "    **********\n",
      "   ************\n",
      "  **************\n",
      " ****************\n"
     ]
    }
   ],
   "source": [
    "n=9\n",
    "for i in range(0,n):\n",
    "    for j in range(n-i):\n",
    "        print(\"\", end=\" \")\n",
    "    for k in range(0,i+1):\n",
    "        print(\"*\", end=\"\")\n",
    "    for l in range(0,k-1):\n",
    "        print(\"*\", end=\"\")\n",
    "    print(\"\")"
   ]
  },
  {
   "cell_type": "code",
   "execution_count": 24,
   "id": "c71af452-66c4-4d44-bbe3-35f912b435b8",
   "metadata": {},
   "outputs": [
    {
     "data": {
      "text/plain": [
       "1"
      ]
     },
     "execution_count": 24,
     "metadata": {},
     "output_type": "execute_result"
    }
   ],
   "source": [
    "True*True"
   ]
  },
  {
   "cell_type": "code",
   "execution_count": 25,
   "id": "87e3cc37-22e2-441b-9517-da9461777db9",
   "metadata": {},
   "outputs": [
    {
     "data": {
      "text/plain": [
       "0"
      ]
     },
     "execution_count": 25,
     "metadata": {},
     "output_type": "execute_result"
    }
   ],
   "source": [
    "False*False"
   ]
  },
  {
   "cell_type": "code",
   "execution_count": 26,
   "id": "0b85c5c5-257b-48d0-a402-6cce4747beae",
   "metadata": {},
   "outputs": [
    {
     "data": {
      "text/plain": [
       "False"
      ]
     },
     "execution_count": 26,
     "metadata": {},
     "output_type": "execute_result"
    }
   ],
   "source": [
    "bool(0)"
   ]
  },
  {
   "cell_type": "code",
   "execution_count": 27,
   "id": "54537b7a-cd13-46ed-ab26-96d9c28a6163",
   "metadata": {},
   "outputs": [
    {
     "data": {
      "text/plain": [
       "True"
      ]
     },
     "execution_count": 27,
     "metadata": {},
     "output_type": "execute_result"
    }
   ],
   "source": [
    "bool(1)"
   ]
  },
  {
   "cell_type": "code",
   "execution_count": 29,
   "id": "5fed78c0-e5f0-4d65-b0b2-5eb28474b595",
   "metadata": {},
   "outputs": [
    {
     "data": {
      "text/plain": [
       "False"
      ]
     },
     "execution_count": 29,
     "metadata": {},
     "output_type": "execute_result"
    }
   ],
   "source": [
    "(not False) * False==True"
   ]
  },
  {
   "cell_type": "code",
   "execution_count": 30,
   "id": "b8eb6cd7-5659-4e4e-a033-209b03a6857f",
   "metadata": {},
   "outputs": [
    {
     "data": {
      "text/plain": [
       "140645077369072"
      ]
     },
     "execution_count": 30,
     "metadata": {},
     "output_type": "execute_result"
    }
   ],
   "source": [
    "x=1\n",
    "id(x)"
   ]
  },
  {
   "cell_type": "code",
   "execution_count": 31,
   "id": "d6bea844-0988-4098-8b3c-2ea582c9600d",
   "metadata": {},
   "outputs": [
    {
     "name": "stdout",
     "output_type": "stream",
     "text": [
      "140645077369072\n",
      "140645077369072\n"
     ]
    }
   ],
   "source": [
    "x=1\n",
    "y=1\n",
    "print(id(x))\n",
    "print(id(y))"
   ]
  },
  {
   "cell_type": "code",
   "execution_count": 32,
   "id": "f8f14768-060b-410b-9899-2098cbca01c6",
   "metadata": {},
   "outputs": [
    {
     "name": "stdout",
     "output_type": "stream",
     "text": [
      "140644946632496\n",
      "140644946632368\n"
     ]
    }
   ],
   "source": [
    "x=\"Rohit\"\n",
    "y=\"rohit\"\n",
    "print(id(x))\n",
    "print(id(y))"
   ]
  },
  {
   "cell_type": "code",
   "execution_count": 33,
   "id": "31c401ea-4754-4601-8980-622ae84c3bae",
   "metadata": {},
   "outputs": [
    {
     "name": "stdout",
     "output_type": "stream",
     "text": [
      "140644946632496\n",
      "140644946632496\n"
     ]
    }
   ],
   "source": [
    "x=\"Rohit\"\n",
    "y=\"Rohit\"\n",
    "print(id(x))\n",
    "print(id(y))"
   ]
  },
  {
   "cell_type": "code",
   "execution_count": 35,
   "id": "d74d0e89-1059-4aee-8d9f-c6357010f838",
   "metadata": {},
   "outputs": [
    {
     "name": "stdout",
     "output_type": "stream",
     "text": [
      "140644449537728\n",
      "140644451082688\n"
     ]
    }
   ],
   "source": [
    "str1=[1,2,3,4,5]\n",
    "str2=[1,2,3,4,5]\n",
    "print(id(str1))\n",
    "print(id(str2))"
   ]
  },
  {
   "cell_type": "code",
   "execution_count": 36,
   "id": "b67062c9-d94a-4a87-bb1e-beea7e0301ee",
   "metadata": {},
   "outputs": [
    {
     "data": {
      "text/plain": [
       "5"
      ]
     },
     "execution_count": 36,
     "metadata": {},
     "output_type": "execute_result"
    }
   ],
   "source": [
    "x=10\n",
    "x>>1"
   ]
  },
  {
   "cell_type": "code",
   "execution_count": 37,
   "id": "ca628eee-1d5d-4c8d-b8aa-aec42af7139e",
   "metadata": {},
   "outputs": [
    {
     "data": {
      "text/plain": [
       "20"
      ]
     },
     "execution_count": 37,
     "metadata": {},
     "output_type": "execute_result"
    }
   ],
   "source": [
    "x<<1"
   ]
  },
  {
   "cell_type": "code",
   "execution_count": 38,
   "id": "a7a18fd5-cd44-427d-ae0f-f4d2c2eb2ff5",
   "metadata": {},
   "outputs": [
    {
     "data": {
      "text/plain": [
       "'0b1010'"
      ]
     },
     "execution_count": 38,
     "metadata": {},
     "output_type": "execute_result"
    }
   ],
   "source": [
    "bin(10)"
   ]
  },
  {
   "cell_type": "code",
   "execution_count": 39,
   "id": "61b39944-3444-4897-b877-a5e7e8b28560",
   "metadata": {},
   "outputs": [
    {
     "data": {
      "text/plain": [
       "'0b1010'"
      ]
     },
     "execution_count": 39,
     "metadata": {},
     "output_type": "execute_result"
    }
   ],
   "source": [
    "bin(x)"
   ]
  },
  {
   "cell_type": "code",
   "execution_count": null,
   "id": "ef28ee24-d801-49df-9258-1d72a2a925c2",
   "metadata": {},
   "outputs": [],
   "source": []
  }
 ],
 "metadata": {
  "kernelspec": {
   "display_name": "Python 3 (ipykernel)",
   "language": "python",
   "name": "python3"
  },
  "language_info": {
   "codemirror_mode": {
    "name": "ipython",
    "version": 3
   },
   "file_extension": ".py",
   "mimetype": "text/x-python",
   "name": "python",
   "nbconvert_exporter": "python",
   "pygments_lexer": "ipython3",
   "version": "3.10.8"
  }
 },
 "nbformat": 4,
 "nbformat_minor": 5
}
