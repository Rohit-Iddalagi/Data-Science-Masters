{
 "cells": [
  {
   "cell_type": "code",
   "execution_count": 3,
   "id": "8fed774e-1471-45b1-891e-4f56afac9f80",
   "metadata": {},
   "outputs": [
    {
     "data": {
      "text/plain": [
       "['PW', 'Skills', 'Data', 'Science', 'Master']"
      ]
     },
     "execution_count": 3,
     "metadata": {},
     "output_type": "execute_result"
    }
   ],
   "source": [
    "string1=\"PW Skills Data Science Master\"\n",
    "list(string1.split())"
   ]
  },
  {
   "cell_type": "code",
   "execution_count": 4,
   "id": "da5e3aa1-4be4-4aaa-80ea-f8d0e3c847ab",
   "metadata": {},
   "outputs": [
    {
     "data": {
      "text/plain": [
       "'Data'"
      ]
     },
     "execution_count": 4,
     "metadata": {},
     "output_type": "execute_result"
    }
   ],
   "source": [
    "lst=string1.split(\" \")\n",
    "lst[2]"
   ]
  },
  {
   "cell_type": "code",
   "execution_count": 5,
   "id": "d77403f9-b504-41c4-b7df-d639f9f6e978",
   "metadata": {},
   "outputs": [
    {
     "data": {
      "text/plain": [
       "'PW'"
      ]
     },
     "execution_count": 5,
     "metadata": {},
     "output_type": "execute_result"
    }
   ],
   "source": [
    "lst[0]"
   ]
  },
  {
   "cell_type": "code",
   "execution_count": 8,
   "id": "e3c5e368-7e13-41fb-81eb-75888ebd30e8",
   "metadata": {},
   "outputs": [],
   "source": [
    "lst[0]=\"PWs\""
   ]
  },
  {
   "cell_type": "code",
   "execution_count": 13,
   "id": "182823db-3e80-4fc8-8e9e-43ac971d9b79",
   "metadata": {},
   "outputs": [
    {
     "data": {
      "text/plain": [
       "['PWs', 'Skills', 'Data', 'Science', 'Master']"
      ]
     },
     "execution_count": 13,
     "metadata": {},
     "output_type": "execute_result"
    }
   ],
   "source": [
    "lst"
   ]
  },
  {
   "cell_type": "code",
   "execution_count": 14,
   "id": "b4b141bd-2f8d-4b1b-be24-67275cd2be5d",
   "metadata": {},
   "outputs": [
    {
     "data": {
      "text/plain": [
       "'Science'"
      ]
     },
     "execution_count": 14,
     "metadata": {},
     "output_type": "execute_result"
    }
   ],
   "source": [
    "lst[-2]"
   ]
  },
  {
   "cell_type": "code",
   "execution_count": 15,
   "id": "930a719f-054e-422f-b3c1-4c2821c6c348",
   "metadata": {},
   "outputs": [
    {
     "data": {
      "text/plain": [
       "['Skills']"
      ]
     },
     "execution_count": 15,
     "metadata": {},
     "output_type": "execute_result"
    }
   ],
   "source": [
    "lst[1::-2]"
   ]
  },
  {
   "cell_type": "code",
   "execution_count": 20,
   "id": "fcfc009e-19ec-4c57-8937-803af92ac254",
   "metadata": {},
   "outputs": [
    {
     "data": {
      "text/plain": [
       "['PWs', 'Skills', 'Data', 'Science', 'Master', 'Add me']"
      ]
     },
     "execution_count": 20,
     "metadata": {},
     "output_type": "execute_result"
    }
   ],
   "source": [
    "##Concatination operation \n",
    "lst + [\"Add me\"]"
   ]
  },
  {
   "cell_type": "code",
   "execution_count": 21,
   "id": "7dd65f30-6b19-4c95-8aad-14d1498041f4",
   "metadata": {},
   "outputs": [
    {
     "data": {
      "text/plain": [
       "['PWs', 'Skills', 'Data', 'Science', 'Master', ['Add me']]"
      ]
     },
     "execution_count": 21,
     "metadata": {},
     "output_type": "execute_result"
    }
   ],
   "source": [
    "lst + [[\"Add me\"]]"
   ]
  },
  {
   "cell_type": "code",
   "execution_count": 23,
   "id": "9e196a4d-a878-4603-a196-007800ecfa9f",
   "metadata": {},
   "outputs": [],
   "source": [
    "lst2=lst + [[\"Add me\"]]"
   ]
  },
  {
   "cell_type": "code",
   "execution_count": 31,
   "id": "2a92344b-99b2-40d8-a0d9-e677e32cba1a",
   "metadata": {},
   "outputs": [
    {
     "data": {
      "text/plain": [
       "['Add me']"
      ]
     },
     "execution_count": 31,
     "metadata": {},
     "output_type": "execute_result"
    }
   ],
   "source": [
    "lst2[-1]"
   ]
  },
  {
   "cell_type": "code",
   "execution_count": 33,
   "id": "4ca19f3b-ae33-4a57-95e7-b358ac589304",
   "metadata": {},
   "outputs": [
    {
     "data": {
      "text/plain": [
       "'Add me'"
      ]
     },
     "execution_count": 33,
     "metadata": {},
     "output_type": "execute_result"
    }
   ],
   "source": [
    "lst2[-1][0]"
   ]
  },
  {
   "cell_type": "code",
   "execution_count": 73,
   "id": "11321207-2bdb-4d39-99e7-641c15687d16",
   "metadata": {},
   "outputs": [
    {
     "name": "stdout",
     "output_type": "stream",
     "text": [
      "present\n"
     ]
    }
   ],
   "source": [
    "if \"Science\" in lst:\n",
    "    print(\"present\")\n",
    "else:\n",
    "    print(\"not present\")\n",
    "    "
   ]
  },
  {
   "cell_type": "code",
   "execution_count": 81,
   "id": "6e380703-f4c7-4297-a8cd-967076ed6e6b",
   "metadata": {},
   "outputs": [
    {
     "name": "stdout",
     "output_type": "stream",
     "text": [
      "Science\n"
     ]
    }
   ],
   "source": [
    "for i in lst:\n",
    "    if i==\"Science\":\n",
    "        print(i)"
   ]
  },
  {
   "cell_type": "code",
   "execution_count": 82,
   "id": "918347f2-ecb6-4c51-ac50-181de6e2e92e",
   "metadata": {},
   "outputs": [
    {
     "data": {
      "text/plain": [
       "True"
      ]
     },
     "execution_count": 82,
     "metadata": {},
     "output_type": "execute_result"
    }
   ],
   "source": [
    "##check a element inside the list\n",
    "lst2=[1,2,3,4]\n",
    "4 in lst2"
   ]
  },
  {
   "cell_type": "code",
   "execution_count": 84,
   "id": "7717727f-7840-49c8-b8a4-44ccd52d1882",
   "metadata": {},
   "outputs": [
    {
     "data": {
      "text/plain": [
       "'Zebra'"
      ]
     },
     "execution_count": 84,
     "metadata": {},
     "output_type": "execute_result"
    }
   ],
   "source": [
    "lst1=[\"Zebra\",\"Lion\",\"Monkey\"]\n",
    "lst2=['1','2','3','9']\n",
    "max(lst1)"
   ]
  },
  {
   "cell_type": "code",
   "execution_count": 85,
   "id": "7104d1f0-c30f-49d1-a570-972b53575014",
   "metadata": {},
   "outputs": [
    {
     "data": {
      "text/plain": [
       "'Lion'"
      ]
     },
     "execution_count": 85,
     "metadata": {},
     "output_type": "execute_result"
    }
   ],
   "source": [
    "min(lst1)"
   ]
  },
  {
   "cell_type": "code",
   "execution_count": 86,
   "id": "16ad836b-da3e-4eed-a9e9-f507c78dd4ac",
   "metadata": {},
   "outputs": [
    {
     "data": {
      "text/plain": [
       "'1'"
      ]
     },
     "execution_count": 86,
     "metadata": {},
     "output_type": "execute_result"
    }
   ],
   "source": [
    "min(lst2)"
   ]
  },
  {
   "cell_type": "code",
   "execution_count": 87,
   "id": "84637775-76f0-4e86-8d2b-3aaa71d989a3",
   "metadata": {},
   "outputs": [
    {
     "data": {
      "text/plain": [
       "'9'"
      ]
     },
     "execution_count": 87,
     "metadata": {},
     "output_type": "execute_result"
    }
   ],
   "source": [
    "max(lst2)"
   ]
  },
  {
   "cell_type": "code",
   "execution_count": 88,
   "id": "5e6c3eeb-1e42-4b39-871f-82ee279d98a0",
   "metadata": {},
   "outputs": [],
   "source": [
    "lst1.append(\"add me\")"
   ]
  },
  {
   "cell_type": "code",
   "execution_count": 90,
   "id": "b0389993-e0d8-4652-91ef-f5c9f0bcd630",
   "metadata": {},
   "outputs": [
    {
     "data": {
      "text/plain": [
       "['Zebra', 'Lion', 'Monkey', 'add me']"
      ]
     },
     "execution_count": 90,
     "metadata": {},
     "output_type": "execute_result"
    }
   ],
   "source": [
    "lst1"
   ]
  },
  {
   "cell_type": "code",
   "execution_count": 97,
   "id": "4b21cb4f-bf96-41f0-ace6-ad4a9ff4d2a0",
   "metadata": {},
   "outputs": [
    {
     "data": {
      "text/plain": [
       "['t', 'i', 'h', 'o', 'r']"
      ]
     },
     "execution_count": 97,
     "metadata": {},
     "output_type": "execute_result"
    }
   ],
   "source": [
    "## sorting and reverse methed in list \n",
    "new_list=['r','o','h','i','t']\n",
    "new_list[::-1]"
   ]
  },
  {
   "cell_type": "code",
   "execution_count": 98,
   "id": "599e42ab-7334-46e1-b9f9-35ececbb7b74",
   "metadata": {},
   "outputs": [],
   "source": [
    "new_list.reverse()"
   ]
  },
  {
   "cell_type": "code",
   "execution_count": 99,
   "id": "60c54996-6915-4600-8dda-4ed034932a52",
   "metadata": {},
   "outputs": [
    {
     "data": {
      "text/plain": [
       "['t', 'i', 'h', 'o', 'r']"
      ]
     },
     "execution_count": 99,
     "metadata": {},
     "output_type": "execute_result"
    }
   ],
   "source": [
    "new_list"
   ]
  },
  {
   "cell_type": "code",
   "execution_count": 100,
   "id": "5b63dcc2-7193-4e25-b931-03098929daed",
   "metadata": {},
   "outputs": [],
   "source": [
    "##Nested list\n",
    "lst_1=[1,2,3]\n",
    "lst_2=[4,5,6]\n",
    "lst_3=[7,8,9]"
   ]
  },
  {
   "cell_type": "code",
   "execution_count": 101,
   "id": "9a25a466-0fd4-42bb-97f1-efa7d8da2804",
   "metadata": {},
   "outputs": [],
   "source": [
    "Matrix=[lst_1,lst_2,lst_3]"
   ]
  },
  {
   "cell_type": "code",
   "execution_count": 102,
   "id": "7583d88f-2008-4ebc-8f28-2ba679bd8d23",
   "metadata": {},
   "outputs": [
    {
     "data": {
      "text/plain": [
       "[[1, 2, 3], [4, 5, 6], [7, 8, 9]]"
      ]
     },
     "execution_count": 102,
     "metadata": {},
     "output_type": "execute_result"
    }
   ],
   "source": [
    "Matrix"
   ]
  },
  {
   "cell_type": "code",
   "execution_count": 112,
   "id": "ec28944f-4ee3-4a2f-beb5-bbe9c6d0b187",
   "metadata": {},
   "outputs": [
    {
     "data": {
      "text/plain": [
       "1"
      ]
     },
     "execution_count": 112,
     "metadata": {},
     "output_type": "execute_result"
    }
   ],
   "source": [
    "Matrix[0][0]"
   ]
  },
  {
   "cell_type": "code",
   "execution_count": 113,
   "id": "caababbc-2b48-4bc7-848a-e6257d778f40",
   "metadata": {},
   "outputs": [
    {
     "data": {
      "text/plain": [
       "2"
      ]
     },
     "execution_count": 113,
     "metadata": {},
     "output_type": "execute_result"
    }
   ],
   "source": [
    "Matrix[0][1]"
   ]
  },
  {
   "cell_type": "code",
   "execution_count": 114,
   "id": "5c4924d4-cfec-48df-a170-85a9e54d3197",
   "metadata": {},
   "outputs": [
    {
     "data": {
      "text/plain": [
       "3"
      ]
     },
     "execution_count": 114,
     "metadata": {},
     "output_type": "execute_result"
    }
   ],
   "source": [
    "Matrix[0][2]"
   ]
  },
  {
   "cell_type": "code",
   "execution_count": 115,
   "id": "670aea45-ef06-4a03-ba64-13f4cca8580e",
   "metadata": {},
   "outputs": [
    {
     "data": {
      "text/plain": [
       "4"
      ]
     },
     "execution_count": 115,
     "metadata": {},
     "output_type": "execute_result"
    }
   ],
   "source": [
    "Matrix[1][0]"
   ]
  },
  {
   "cell_type": "code",
   "execution_count": 1,
   "id": "b79af4c1-4f52-4b4c-9907-3189ff0e3d36",
   "metadata": {},
   "outputs": [
    {
     "data": {
      "text/plain": [
       "[0,\n",
       " 'ODD',\n",
       " 2,\n",
       " 'ODD',\n",
       " 4,\n",
       " 'ODD',\n",
       " 6,\n",
       " 'ODD',\n",
       " 8,\n",
       " 'ODD',\n",
       " 10,\n",
       " 'ODD',\n",
       " 12,\n",
       " 'ODD',\n",
       " 14,\n",
       " 'ODD',\n",
       " 16,\n",
       " 'ODD',\n",
       " 18,\n",
       " 'ODD']"
      ]
     },
     "execution_count": 1,
     "metadata": {},
     "output_type": "execute_result"
    }
   ],
   "source": [
    "##list comprihention\n",
    "##Even numbers\n",
    "[i if i%2==0 else \"ODD\" for i in range(0,20)]"
   ]
  },
  {
   "cell_type": "code",
   "execution_count": 34,
   "id": "87075079-fdb9-4c78-ae8b-655f1e6ec0de",
   "metadata": {},
   "outputs": [
    {
     "name": "stdout",
     "output_type": "stream",
     "text": [
      "20\n",
      "16\n"
     ]
    }
   ],
   "source": [
    "lst4=[1,2,3,4,5,6,7,8]\n",
    "sum1=0\n",
    "sum2=0\n",
    "for i in lst4:\n",
    "    if i%2==0:\n",
    "        sum1+=i\n",
    "    else:\n",
    "        sum2+=i\n",
    "print(sum1)\n",
    "print(sum2)"
   ]
  },
  {
   "cell_type": "code",
   "execution_count": 38,
   "id": "1b17cd6e-e077-4285-919b-db0ce753ea54",
   "metadata": {},
   "outputs": [
    {
     "data": {
      "text/plain": [
       "[1, 2, 3, 4, 5, 6, 7, 8]"
      ]
     },
     "execution_count": 38,
     "metadata": {},
     "output_type": "execute_result"
    }
   ],
   "source": [
    "[i for i in lst4]"
   ]
  },
  {
   "cell_type": "code",
   "execution_count": null,
   "id": "a20da3cb-5482-4c59-addd-1b9954b00f54",
   "metadata": {},
   "outputs": [],
   "source": [
    "[i for i in lst4 if i%2==0]"
   ]
  },
  {
   "cell_type": "code",
   "execution_count": null,
   "id": "2508adb9-ae29-4083-88f6-0c73b47f29da",
   "metadata": {},
   "outputs": [],
   "source": []
  }
 ],
 "metadata": {
  "kernelspec": {
   "display_name": "Python 3 (ipykernel)",
   "language": "python",
   "name": "python3"
  },
  "language_info": {
   "codemirror_mode": {
    "name": "ipython",
    "version": 3
   },
   "file_extension": ".py",
   "mimetype": "text/x-python",
   "name": "python",
   "nbconvert_exporter": "python",
   "pygments_lexer": "ipython3",
   "version": "3.10.8"
  }
 },
 "nbformat": 4,
 "nbformat_minor": 5
}
