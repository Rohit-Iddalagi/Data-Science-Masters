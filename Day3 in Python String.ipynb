{
 "cells": [
  {
   "cell_type": "code",
   "execution_count": 9,
   "id": "b6782a5d-c2c9-47ea-afc5-b896b2c7d6e8",
   "metadata": {},
   "outputs": [],
   "source": [
    "string=\"Data Science Master\""
   ]
  },
  {
   "cell_type": "code",
   "execution_count": 13,
   "id": "c47ecbc2-7192-46e6-a704-1aa92756b8a1",
   "metadata": {},
   "outputs": [
    {
     "data": {
      "text/plain": [
       "'ata Science Masters'"
      ]
     },
     "execution_count": 13,
     "metadata": {},
     "output_type": "execute_result"
    }
   ],
   "source": [
    "string[1:]"
   ]
  },
  {
   "cell_type": "code",
   "execution_count": 14,
   "id": "23dc04c2-8e99-4fbf-82e3-334dc15dcb43",
   "metadata": {},
   "outputs": [
    {
     "data": {
      "text/plain": [
       "'D'"
      ]
     },
     "execution_count": 14,
     "metadata": {},
     "output_type": "execute_result"
    }
   ],
   "source": [
    "string[:1]"
   ]
  },
  {
   "cell_type": "code",
   "execution_count": 6,
   "id": "eebf8915-507e-4ca8-b97a-10248f8c210e",
   "metadata": {},
   "outputs": [
    {
     "data": {
      "text/plain": [
       "'retsaM ecneicS ataD'"
      ]
     },
     "execution_count": 6,
     "metadata": {},
     "output_type": "execute_result"
    }
   ],
   "source": [
    "string[::-1]"
   ]
  },
  {
   "cell_type": "code",
   "execution_count": 11,
   "id": "61046ada-9a51-45af-84f5-95a9bf037530",
   "metadata": {},
   "outputs": [
    {
     "data": {
      "text/plain": [
       "'ecneicS'"
      ]
     },
     "execution_count": 11,
     "metadata": {},
     "output_type": "execute_result"
    }
   ],
   "source": [
    "string[11:4:-1]"
   ]
  },
  {
   "cell_type": "code",
   "execution_count": 13,
   "id": "878e5477-c8b5-4d21-8153-4506d1b9ea42",
   "metadata": {},
   "outputs": [
    {
     "data": {
      "text/plain": [
       "'Science'"
      ]
     },
     "execution_count": 13,
     "metadata": {},
     "output_type": "execute_result"
    }
   ],
   "source": [
    "string[5:12]"
   ]
  },
  {
   "cell_type": "code",
   "execution_count": 14,
   "id": "3e563222-ae88-4e6c-9090-df4851b43c11",
   "metadata": {},
   "outputs": [
    {
     "data": {
      "text/plain": [
       "'DATA SCIENCE MASTER'"
      ]
     },
     "execution_count": 14,
     "metadata": {},
     "output_type": "execute_result"
    }
   ],
   "source": [
    "string.upper()"
   ]
  },
  {
   "cell_type": "code",
   "execution_count": 15,
   "id": "3a4abbd2-bce6-458b-89ae-fc4031b98b08",
   "metadata": {},
   "outputs": [
    {
     "data": {
      "text/plain": [
       "'data science master'"
      ]
     },
     "execution_count": 15,
     "metadata": {},
     "output_type": "execute_result"
    }
   ],
   "source": [
    "string.lower()"
   ]
  },
  {
   "cell_type": "code",
   "execution_count": 16,
   "id": "9a741bf7-4fba-43f2-9563-32e378f36e58",
   "metadata": {},
   "outputs": [
    {
     "data": {
      "text/plain": [
       "'dATA sCIENCE mASTER'"
      ]
     },
     "execution_count": 16,
     "metadata": {},
     "output_type": "execute_result"
    }
   ],
   "source": [
    "string.swapcase()"
   ]
  },
  {
   "cell_type": "code",
   "execution_count": 17,
   "id": "33200f5c-f36f-40a3-933c-a383e5081cc5",
   "metadata": {},
   "outputs": [
    {
     "data": {
      "text/plain": [
       "'Data Science Master'"
      ]
     },
     "execution_count": 17,
     "metadata": {},
     "output_type": "execute_result"
    }
   ],
   "source": [
    "string.title()"
   ]
  },
  {
   "cell_type": "code",
   "execution_count": 15,
   "id": "77affab8-aade-4c43-a5c7-ff339ce47a6d",
   "metadata": {},
   "outputs": [
    {
     "data": {
      "text/plain": [
       "('Data', ' ', 'Science Masters')"
      ]
     },
     "execution_count": 15,
     "metadata": {},
     "output_type": "execute_result"
    }
   ],
   "source": [
    "string.partition(\" \")"
   ]
  },
  {
   "cell_type": "code",
   "execution_count": 16,
   "id": "b149c2ff-2645-4f8e-83ac-e6f7f70cb60d",
   "metadata": {},
   "outputs": [
    {
     "data": {
      "text/plain": [
       "21"
      ]
     },
     "execution_count": 16,
     "metadata": {},
     "output_type": "execute_result"
    }
   ],
   "source": [
    "string.count(\"\")"
   ]
  },
  {
   "cell_type": "code",
   "execution_count": null,
   "id": "cdbb1a92-dde7-491c-96d7-07d70445057a",
   "metadata": {},
   "outputs": [],
   "source": []
  }
 ],
 "metadata": {
  "kernelspec": {
   "display_name": "Python 3 (ipykernel)",
   "language": "python",
   "name": "python3"
  },
  "language_info": {
   "codemirror_mode": {
    "name": "ipython",
    "version": 3
   },
   "file_extension": ".py",
   "mimetype": "text/x-python",
   "name": "python",
   "nbconvert_exporter": "python",
   "pygments_lexer": "ipython3",
   "version": "3.10.8"
  }
 },
 "nbformat": 4,
 "nbformat_minor": 5
}
