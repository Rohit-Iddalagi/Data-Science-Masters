{
 "cells": [
  {
   "cell_type": "code",
   "execution_count": 7,
   "id": "f74d7dbd-41d4-4104-ba79-2fe735ae32c4",
   "metadata": {},
   "outputs": [
    {
     "data": {
      "text/plain": [
       "[1, 4, 9, 16, 25, 36, 49, 64, 81, 100]"
      ]
     },
     "execution_count": 7,
     "metadata": {},
     "output_type": "execute_result"
    }
   ],
   "source": [
    "lst5=[1,2,3,4,5,6,7,8,9,10]\n",
    "[i**2 for i in lst5]"
   ]
  },
  {
   "cell_type": "code",
   "execution_count": 4,
   "id": "945bf9a2-fafe-480f-9c86-a607fd4c7df3",
   "metadata": {},
   "outputs": [
    {
     "name": "stdout",
     "output_type": "stream",
     "text": [
      "15\n"
     ]
    }
   ],
   "source": [
    "my_list = [1, 2, 3, 4, 5]\n",
    "list_sum = sum(my_list)\n",
    "print(list_sum)"
   ]
  },
  {
   "cell_type": "code",
   "execution_count": 14,
   "id": "8c743f78-ba5c-475d-a327-abb078456d83",
   "metadata": {},
   "outputs": [
    {
     "data": {
      "text/plain": [
       "10"
      ]
     },
     "execution_count": 14,
     "metadata": {},
     "output_type": "execute_result"
    }
   ],
   "source": [
    "lst1=[-2, -1,0,1,2,3,4]\n",
    "sum([num for num in lst1 if num>0])"
   ]
  },
  {
   "cell_type": "code",
   "execution_count": 15,
   "id": "615061c9-f4fe-4d70-aafd-71f624b851d2",
   "metadata": {},
   "outputs": [
    {
     "data": {
      "text/plain": [
       "['a', 'b', 'c', 'd']"
      ]
     },
     "execution_count": 15,
     "metadata": {},
     "output_type": "execute_result"
    }
   ],
   "source": [
    "my_list = [\"apple\", \"banana\", \"cherry\", \"date\"]\n",
    "[i[0] for i in my_list]"
   ]
  },
  {
   "cell_type": "code",
   "execution_count": 21,
   "id": "ecdc3616-4680-42ee-9963-23e7841c11e6",
   "metadata": {},
   "outputs": [
    {
     "data": {
      "text/plain": [
       "[32.0, 50.0, 68.0, 86.0, 104.0, 122.0]"
      ]
     },
     "execution_count": 21,
     "metadata": {},
     "output_type": "execute_result"
    }
   ],
   "source": [
    "celsius_temperature=[0, 10, 20, 30, 40, 50]\n",
    "[(i*9/5)+32 for i in celsius_temperature]"
   ]
  },
  {
   "cell_type": "code",
   "execution_count": 22,
   "id": "dfae7f12-6d21-49fe-9f8e-39dd65053865",
   "metadata": {},
   "outputs": [
    {
     "data": {
      "text/plain": [
       "[1, 2, 3, 4, 5, 6, 7, 8, 9]"
      ]
     },
     "execution_count": 22,
     "metadata": {},
     "output_type": "execute_result"
    }
   ],
   "source": [
    "nested_list = [[1, 2, 3], [4, 5], [6, 7, 8, 9]]\n",
    "[i for j in nested_list for i in j]"
   ]
  },
  {
   "cell_type": "code",
   "execution_count": null,
   "id": "94697261-fe62-4a8a-a1d7-6cd2cae7fa90",
   "metadata": {},
   "outputs": [],
   "source": []
  }
 ],
 "metadata": {
  "kernelspec": {
   "display_name": "Python 3 (ipykernel)",
   "language": "python",
   "name": "python3"
  },
  "language_info": {
   "codemirror_mode": {
    "name": "ipython",
    "version": 3
   },
   "file_extension": ".py",
   "mimetype": "text/x-python",
   "name": "python",
   "nbconvert_exporter": "python",
   "pygments_lexer": "ipython3",
   "version": "3.10.8"
  }
 },
 "nbformat": 4,
 "nbformat_minor": 5
}
