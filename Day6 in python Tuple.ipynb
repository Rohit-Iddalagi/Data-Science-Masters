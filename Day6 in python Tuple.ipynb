{
 "cells": [
  {
   "cell_type": "code",
   "execution_count": 8,
   "id": "f237b829-2a6a-440c-b316-4a31839c8ace",
   "metadata": {},
   "outputs": [],
   "source": [
    "t=()"
   ]
  },
  {
   "cell_type": "code",
   "execution_count": 10,
   "id": "5beec4ff-4052-4fe4-906b-ea780bca4d9c",
   "metadata": {},
   "outputs": [
    {
     "data": {
      "text/plain": [
       "tuple"
      ]
     },
     "execution_count": 10,
     "metadata": {},
     "output_type": "execute_result"
    }
   ],
   "source": [
    "type(t)"
   ]
  },
  {
   "cell_type": "code",
   "execution_count": 16,
   "id": "073cc148-6ef0-43ee-9a82-4859e2c8253d",
   "metadata": {},
   "outputs": [
    {
     "data": {
      "text/plain": [
       "tuple"
      ]
     },
     "execution_count": 16,
     "metadata": {},
     "output_type": "execute_result"
    }
   ],
   "source": [
    "t1 = (1,2,3,4.3,\"Rohit\", \"i+j1\", True)\n",
    "type(t1)"
   ]
  },
  {
   "cell_type": "code",
   "execution_count": 17,
   "id": "1536c3f1-7efc-4533-95d8-085420a790df",
   "metadata": {},
   "outputs": [],
   "source": [
    "l = [1,2,3,4]"
   ]
  },
  {
   "cell_type": "code",
   "execution_count": 18,
   "id": "b1692912-baea-4ca8-a4b2-c3235f288e8e",
   "metadata": {},
   "outputs": [
    {
     "data": {
      "text/plain": [
       "list"
      ]
     },
     "execution_count": 18,
     "metadata": {},
     "output_type": "execute_result"
    }
   ],
   "source": [
    "type(l)"
   ]
  },
  {
   "cell_type": "code",
   "execution_count": 19,
   "id": "3745496e-6f0b-46ca-87a2-cefa240ea594",
   "metadata": {},
   "outputs": [
    {
     "data": {
      "text/plain": [
       "(1, 2, 3, 4.3, 'Rohit', 'i+j1', True)"
      ]
     },
     "execution_count": 19,
     "metadata": {},
     "output_type": "execute_result"
    }
   ],
   "source": [
    "t1"
   ]
  },
  {
   "cell_type": "code",
   "execution_count": 21,
   "id": "92653d3c-95d4-4544-8c56-475bf1c61cc5",
   "metadata": {},
   "outputs": [
    {
     "data": {
      "text/plain": [
       "2"
      ]
     },
     "execution_count": 21,
     "metadata": {},
     "output_type": "execute_result"
    }
   ],
   "source": [
    "t1[1]"
   ]
  },
  {
   "cell_type": "code",
   "execution_count": 22,
   "id": "2738ceca-a6fe-41e0-8cb0-b445dd4f3e89",
   "metadata": {},
   "outputs": [
    {
     "data": {
      "text/plain": [
       "(True, 'i+j1', 'Rohit', 4.3, 3, 2, 1)"
      ]
     },
     "execution_count": 22,
     "metadata": {},
     "output_type": "execute_result"
    }
   ],
   "source": [
    "t1[::-1]"
   ]
  },
  {
   "cell_type": "code",
   "execution_count": 36,
   "id": "d69700a9-b9ac-46ee-b3fa-996527804d2e",
   "metadata": {},
   "outputs": [
    {
     "data": {
      "text/plain": [
       "(1, 2, 3)"
      ]
     },
     "execution_count": 36,
     "metadata": {},
     "output_type": "execute_result"
    }
   ],
   "source": [
    "t1[0:3]"
   ]
  },
  {
   "cell_type": "code",
   "execution_count": 53,
   "id": "6249950a-452a-4167-adc5-0d53586c0978",
   "metadata": {},
   "outputs": [],
   "source": [
    "t1 = t1[::-1]"
   ]
  },
  {
   "cell_type": "code",
   "execution_count": 35,
   "id": "7a15dcc4-f2b7-4c60-aeac-48f7a5781184",
   "metadata": {},
   "outputs": [
    {
     "data": {
      "text/plain": [
       "(1, 2, 3)"
      ]
     },
     "execution_count": 35,
     "metadata": {},
     "output_type": "execute_result"
    }
   ],
   "source": [
    "t1[0:3]"
   ]
  },
  {
   "cell_type": "code",
   "execution_count": 47,
   "id": "dbeedd9c-2afc-438d-8dc5-e4571a4bf25b",
   "metadata": {},
   "outputs": [
    {
     "data": {
      "text/plain": [
       "1"
      ]
     },
     "execution_count": 47,
     "metadata": {},
     "output_type": "execute_result"
    }
   ],
   "source": [
    "t1.count(\"Rohit\")"
   ]
  },
  {
   "cell_type": "code",
   "execution_count": 51,
   "id": "77f2c83d-153f-45b0-abc3-020b86ae25d6",
   "metadata": {},
   "outputs": [
    {
     "data": {
      "text/plain": [
       "0"
      ]
     },
     "execution_count": 51,
     "metadata": {},
     "output_type": "execute_result"
    }
   ],
   "source": [
    "t1.index(True)"
   ]
  },
  {
   "cell_type": "code",
   "execution_count": 52,
   "id": "ff687d03-a5fd-449e-85df-d8758b0b6761",
   "metadata": {},
   "outputs": [
    {
     "data": {
      "text/plain": [
       "(1, 2, 3, 4.3, 'Rohit', 'i+j1', True)"
      ]
     },
     "execution_count": 52,
     "metadata": {},
     "output_type": "execute_result"
    }
   ],
   "source": [
    "t1"
   ]
  },
  {
   "cell_type": "code",
   "execution_count": 54,
   "id": "ea2ccd90-4af1-42b1-af7e-63395610069d",
   "metadata": {},
   "outputs": [
    {
     "data": {
      "text/plain": [
       "2"
      ]
     },
     "execution_count": 54,
     "metadata": {},
     "output_type": "execute_result"
    }
   ],
   "source": [
    "t1.count(1)"
   ]
  },
  {
   "cell_type": "code",
   "execution_count": null,
   "id": "ebdd4807-a961-4ae1-a576-46f08d5441b4",
   "metadata": {},
   "outputs": [],
   "source": [
    "##Count is 2 becasue True of bool is stored as 1 in memory and also we have 1 in the list"
   ]
  },
  {
   "cell_type": "code",
   "execution_count": null,
   "id": "8d673832-bdf0-4719-82cb-287ba4691d3d",
   "metadata": {},
   "outputs": [],
   "source": []
  },
  {
   "cell_type": "code",
   "execution_count": null,
   "id": "c861e07c-c18f-4377-96cb-5aadcab2c948",
   "metadata": {},
   "outputs": [],
   "source": [
    "##Exabple for Tuple is immutable"
   ]
  },
  {
   "cell_type": "code",
   "execution_count": 56,
   "id": "e0cfe87d-eabe-4c2e-b96c-f8029ef59d13",
   "metadata": {},
   "outputs": [
    {
     "data": {
      "text/plain": [
       "(True, 'i+j1', 'Rohit', 4.3, 3, 2, 1)"
      ]
     },
     "execution_count": 56,
     "metadata": {},
     "output_type": "execute_result"
    }
   ],
   "source": [
    "t1"
   ]
  },
  {
   "cell_type": "code",
   "execution_count": 57,
   "id": "b8a21470-cf07-4895-a2b6-a14d800b998a",
   "metadata": {},
   "outputs": [
    {
     "ename": "TypeError",
     "evalue": "'tuple' object does not support item assignment",
     "output_type": "error",
     "traceback": [
      "\u001b[0;31m---------------------------------------------------------------------------\u001b[0m",
      "\u001b[0;31mTypeError\u001b[0m                                 Traceback (most recent call last)",
      "Cell \u001b[0;32mIn[57], line 1\u001b[0m\n\u001b[0;32m----> 1\u001b[0m \u001b[43mt1\u001b[49m\u001b[43m[\u001b[49m\u001b[38;5;241;43m0\u001b[39;49m\u001b[43m]\u001b[49m \u001b[38;5;241m=\u001b[39m \u001b[38;5;241m29\u001b[39m\n",
      "\u001b[0;31mTypeError\u001b[0m: 'tuple' object does not support item assignment"
     ]
    }
   ],
   "source": [
    "t1[0] = 29"
   ]
  },
  {
   "cell_type": "code",
   "execution_count": 58,
   "id": "0eb65b1a-6092-4b59-b53a-cba50de0070e",
   "metadata": {},
   "outputs": [
    {
     "data": {
      "text/plain": [
       "[1, 2, 3, 4]"
      ]
     },
     "execution_count": 58,
     "metadata": {},
     "output_type": "execute_result"
    }
   ],
   "source": [
    "l"
   ]
  },
  {
   "cell_type": "code",
   "execution_count": 61,
   "id": "a412f27b-e041-437c-b7cd-554e725d8f07",
   "metadata": {},
   "outputs": [],
   "source": [
    "l[0]=29"
   ]
  },
  {
   "cell_type": "code",
   "execution_count": 62,
   "id": "0a0f6aa9-35ee-4f3c-aa91-b0c95824be82",
   "metadata": {},
   "outputs": [
    {
     "data": {
      "text/plain": [
       "[29, 2, 3, 4]"
      ]
     },
     "execution_count": 62,
     "metadata": {},
     "output_type": "execute_result"
    }
   ],
   "source": [
    "l"
   ]
  },
  {
   "cell_type": "code",
   "execution_count": 63,
   "id": "a533cee6-6e2a-4075-a66a-005b0c8b7775",
   "metadata": {},
   "outputs": [
    {
     "data": {
      "text/plain": [
       "(True, 'i+j1', 'Rohit', 4.3, 3, 2, 1)"
      ]
     },
     "execution_count": 63,
     "metadata": {},
     "output_type": "execute_result"
    }
   ],
   "source": [
    "t1"
   ]
  },
  {
   "cell_type": "code",
   "execution_count": 65,
   "id": "82a35ea0-a61a-46c7-9fd2-6f11e5220e1e",
   "metadata": {},
   "outputs": [
    {
     "name": "stdout",
     "output_type": "stream",
     "text": [
      "True <class 'bool'>\n",
      "i+j1 <class 'str'>\n",
      "Rohit <class 'str'>\n",
      "4.3 <class 'float'>\n",
      "3 <class 'int'>\n",
      "2 <class 'int'>\n",
      "1 <class 'int'>\n"
     ]
    }
   ],
   "source": [
    "for i in t1:\n",
    "    print(i, type(i))"
   ]
  },
  {
   "cell_type": "code",
   "execution_count": 66,
   "id": "d7258487-9e6f-4487-87dd-4c9d3e5aef05",
   "metadata": {},
   "outputs": [],
   "source": [
    "t2 = (1,2,3,4)"
   ]
  },
  {
   "cell_type": "code",
   "execution_count": 67,
   "id": "e66944e0-5a98-40e1-84c6-cf19392961ab",
   "metadata": {},
   "outputs": [
    {
     "data": {
      "text/plain": [
       "(1, 2, 3, 4)"
      ]
     },
     "execution_count": 67,
     "metadata": {},
     "output_type": "execute_result"
    }
   ],
   "source": [
    "t2"
   ]
  },
  {
   "cell_type": "code",
   "execution_count": 68,
   "id": "f9425214-2651-4be2-b196-9b5940734393",
   "metadata": {},
   "outputs": [
    {
     "data": {
      "text/plain": [
       "(1, 2, 3, 4, 1, 2, 3, 4, 1, 2, 3, 4)"
      ]
     },
     "execution_count": 68,
     "metadata": {},
     "output_type": "execute_result"
    }
   ],
   "source": [
    "t2*3"
   ]
  },
  {
   "cell_type": "code",
   "execution_count": 71,
   "id": "ae91615e-3068-4b43-b58c-b5042ea93308",
   "metadata": {},
   "outputs": [
    {
     "data": {
      "text/plain": [
       "4"
      ]
     },
     "execution_count": 71,
     "metadata": {},
     "output_type": "execute_result"
    }
   ],
   "source": [
    "max(t2)"
   ]
  },
  {
   "cell_type": "code",
   "execution_count": 72,
   "id": "a03aa02f-99c9-4989-8c25-ab9c49a0366d",
   "metadata": {},
   "outputs": [
    {
     "data": {
      "text/plain": [
       "1"
      ]
     },
     "execution_count": 72,
     "metadata": {},
     "output_type": "execute_result"
    }
   ],
   "source": [
    "min(t2)"
   ]
  },
  {
   "cell_type": "code",
   "execution_count": 74,
   "id": "4437f954-e545-4639-885a-9639aa18a853",
   "metadata": {},
   "outputs": [
    {
     "data": {
      "text/plain": [
       "(1, 2, 3, 4)"
      ]
     },
     "execution_count": 74,
     "metadata": {},
     "output_type": "execute_result"
    }
   ],
   "source": [
    "t2"
   ]
  },
  {
   "cell_type": "code",
   "execution_count": 79,
   "id": "43508d95-9623-4e49-bb82-f69ada6f3210",
   "metadata": {},
   "outputs": [
    {
     "data": {
      "text/plain": [
       "(True, 'i+j1', 'Rohit', 4.3, 3, 2, 1)"
      ]
     },
     "execution_count": 79,
     "metadata": {},
     "output_type": "execute_result"
    }
   ],
   "source": [
    "t1"
   ]
  },
  {
   "cell_type": "code",
   "execution_count": 80,
   "id": "35cf0436-1b4d-4a8b-8ce7-1e6187cd5866",
   "metadata": {},
   "outputs": [],
   "source": [
    "t3 = (t1,t2)"
   ]
  },
  {
   "cell_type": "code",
   "execution_count": 82,
   "id": "d92422ec-0e4c-44d9-b5c0-1b45e428ab91",
   "metadata": {},
   "outputs": [
    {
     "data": {
      "text/plain": [
       "((True, 'i+j1', 'Rohit', 4.3, 3, 2, 1), (1, 2, 3, 4))"
      ]
     },
     "execution_count": 82,
     "metadata": {},
     "output_type": "execute_result"
    }
   ],
   "source": [
    "t3"
   ]
  },
  {
   "cell_type": "code",
   "execution_count": 83,
   "id": "89b61a99-f3cb-456c-9460-ad34b268a85e",
   "metadata": {},
   "outputs": [],
   "source": [
    "del t2"
   ]
  },
  {
   "cell_type": "code",
   "execution_count": 84,
   "id": "2678d51a-0dbe-4aaa-9075-1e6e24c81bab",
   "metadata": {},
   "outputs": [
    {
     "ename": "NameError",
     "evalue": "name 't2' is not defined",
     "output_type": "error",
     "traceback": [
      "\u001b[0;31m---------------------------------------------------------------------------\u001b[0m",
      "\u001b[0;31mNameError\u001b[0m                                 Traceback (most recent call last)",
      "Cell \u001b[0;32mIn[84], line 1\u001b[0m\n\u001b[0;32m----> 1\u001b[0m \u001b[43mt2\u001b[49m\n",
      "\u001b[0;31mNameError\u001b[0m: name 't2' is not defined"
     ]
    }
   ],
   "source": [
    "t2"
   ]
  },
  {
   "cell_type": "code",
   "execution_count": 85,
   "id": "2945b725-d649-4c30-817a-3f2257b15471",
   "metadata": {},
   "outputs": [],
   "source": [
    "##t2 is deleted "
   ]
  },
  {
   "cell_type": "code",
   "execution_count": 88,
   "id": "3199de81-1290-4f4c-be8f-204152607c69",
   "metadata": {},
   "outputs": [
    {
     "data": {
      "text/plain": [
       "(True, 'i+j1', 'Rohit', 4.3, 3, 2, 1)"
      ]
     },
     "execution_count": 88,
     "metadata": {},
     "output_type": "execute_result"
    }
   ],
   "source": [
    "t1"
   ]
  },
  {
   "cell_type": "code",
   "execution_count": 89,
   "id": "da513046-a27b-4108-ab6b-d183349186ba",
   "metadata": {},
   "outputs": [
    {
     "data": {
      "text/plain": [
       "7"
      ]
     },
     "execution_count": 89,
     "metadata": {},
     "output_type": "execute_result"
    }
   ],
   "source": [
    "len(t1)"
   ]
  },
  {
   "cell_type": "code",
   "execution_count": 90,
   "id": "aa7f3e99-4205-49e4-8e32-56ffbb9532d2",
   "metadata": {},
   "outputs": [
    {
     "data": {
      "text/plain": [
       "(True, 'i+j1', 'Rohit', 4.3, 3, 2, 1)"
      ]
     },
     "execution_count": 90,
     "metadata": {},
     "output_type": "execute_result"
    }
   ],
   "source": [
    "t1"
   ]
  },
  {
   "cell_type": "code",
   "execution_count": 91,
   "id": "30a7d1f3-0a94-4c73-97b8-9ddf03c2ba58",
   "metadata": {},
   "outputs": [
    {
     "data": {
      "text/plain": [
       "True"
      ]
     },
     "execution_count": 91,
     "metadata": {},
     "output_type": "execute_result"
    }
   ],
   "source": [
    "\"Rohit\" in t1"
   ]
  },
  {
   "cell_type": "code",
   "execution_count": 92,
   "id": "337c9344-7959-43e8-acaf-8e0946112375",
   "metadata": {},
   "outputs": [
    {
     "data": {
      "text/plain": [
       "False"
      ]
     },
     "execution_count": 92,
     "metadata": {},
     "output_type": "execute_result"
    }
   ],
   "source": [
    "\"5\" in t1"
   ]
  },
  {
   "cell_type": "code",
   "execution_count": null,
   "id": "99f8807e-76be-4931-a4d2-a5c9f235b141",
   "metadata": {},
   "outputs": [],
   "source": []
  }
 ],
 "metadata": {
  "kernelspec": {
   "display_name": "Python 3 (ipykernel)",
   "language": "python",
   "name": "python3"
  },
  "language_info": {
   "codemirror_mode": {
    "name": "ipython",
    "version": 3
   },
   "file_extension": ".py",
   "mimetype": "text/x-python",
   "name": "python",
   "nbconvert_exporter": "python",
   "pygments_lexer": "ipython3",
   "version": "3.10.8"
  }
 },
 "nbformat": 4,
 "nbformat_minor": 5
}
